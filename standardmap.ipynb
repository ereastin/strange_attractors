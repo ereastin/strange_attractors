{
 "cells": [
  {
   "cell_type": "code",
   "execution_count": 1,
   "metadata": {},
   "outputs": [],
   "source": [
    "import numpy as np\n",
    "import matplotlib.pyplot as plt"
   ]
  },
  {
   "cell_type": "code",
   "execution_count": 2,
   "metadata": {},
   "outputs": [],
   "source": [
    "def STNDmap(k, x0, y0, N): # Chirikov's Standard Map\n",
    "    x, y = np.zeros(N), np.zeros(N)\n",
    "    x[0], y[0] = x0, y0\n",
    "    for i in range(1, N, 1):\n",
    "        y[i] = (y[i - 1] + k * np.sin(x[i - 1])) % (2 * np.pi)\n",
    "        x[i] = (x[i - 1] + y[i - 1] + k * np.sin(x[i - 1])) % (2 * np.pi)\n",
    "    return x, y"
   ]
  },
  {
   "cell_type": "code",
   "execution_count": 16,
   "metadata": {},
   "outputs": [],
   "source": [
    "def plotSTNDMap(k):\n",
    "    x0 = np.linspace(0, 2 * np.pi, 20) # mapping of a square with side length 2pi\n",
    "    y0 = np.linspace(0, 2 * np.pi, 20)\n",
    "    coords = np.zeros((len(x0), len(y0)), dtype=tuple) # initializing array [S] of initial conditions\n",
    "    for m in range(0, len(x0)): # [S]_{mn} matrix value \n",
    "        for n in range(0, len(y0)):\n",
    "            coords[m][n] = (x0[m], y0[n])\n",
    "    for i in range(0, len(coords[0])): # \n",
    "        for j in range(0, len(coords[1])):\n",
    "            p, q = coords[i][j] # unpacking coordinate values from tuple\n",
    "            x, y = STNDmap(k, p, q, 1000) # calculating x, y arrays over 5000 iterations\n",
    "            plt.plot(x, y - np.pi, '.', color='k', markersize=.05)\n",
    "    plt.xlim((0, 2 * np.pi))\n",
    "    plt.ylim((-np.pi, np.pi))\n",
    "    plt.xlabel('x')\n",
    "    plt.ylabel('y')\n",
    "    plt.title('k ='+str(k))\n",
    "    plt.savefig('STNDMap0.png')\n",
    "    plt.show()"
   ]
  },
  {
   "cell_type": "code",
   "execution_count": 17,
   "metadata": {},
   "outputs": [
    {
     "data": {
      "image/png": "[encoded data removed]",
      "text/plain": [
       "<Figure size 432x288 with 1 Axes>"
      ]
     },
     "metadata": {
      "needs_background": "light"
     },
     "output_type": "display_data"
    }
   ],
   "source": [
    "plotSTNDMap(0)\n",
    "#plotSTNDMap(0.5)\n",
    "#plotSTNDMap(1)\n",
    "#plotSTNDMap(2)"
   ]
  },
  {
   "cell_type": "code",
   "execution_count": null,
   "metadata": {},
   "outputs": [],
   "source": []
  }
 ],
 "metadata": {
  "kernelspec": {
   "display_name": "Python 3",
   "language": "python",
   "name": "python3"
  },
  "language_info": {
   "codemirror_mode": {
    "name": "ipython",
    "version": 3
   },
   "file_extension": ".py",
   "mimetype": "text/x-python",
   "name": "python",
   "nbconvert_exporter": "python",
   "pygments_lexer": "ipython3",
   "version": "3.7.3"
  }
 },
 "nbformat": 4,
 "nbformat_minor": 2
}
