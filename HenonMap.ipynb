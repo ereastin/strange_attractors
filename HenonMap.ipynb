{
 "cells": [
  {
   "cell_type": "code",
   "execution_count": 1,
   "metadata": {},
   "outputs": [],
   "source": [
    "def henonmap(a, b, x0, y0, N):\n",
    "    x, y = np.zeros(N), np.zeros(N)\n",
    "    x[0], y[0] = x0, y0\n",
    "    for i in range(1, N, 1):\n",
    "        x[i] = y[i - 1] + 1 - a * x[i - 1] ** 2\n",
    "        y[i] = b * x[i - 1]\n",
    "    return x, y"
   ]
  },
  {
   "cell_type": "code",
   "execution_count": 2,
   "metadata": {},
   "outputs": [],
   "source": [
    "import numpy as np\n",
    "import matplotlib.pyplot as plt\n",
    "import matplotlib.patches as patches"
   ]
  },
  {
   "cell_type": "code",
   "execution_count": 40,
   "metadata": {},
   "outputs": [
    {
     "ename": "SyntaxError",
     "evalue": "invalid syntax (<ipython-input-40-d174cf12ae7c>, line 3)",
     "output_type": "error",
     "traceback": [
      "\u001b[0;36m  File \u001b[0;32m\"<ipython-input-40-d174cf12ae7c>\"\u001b[0;36m, line \u001b[0;32m3\u001b[0m\n\u001b[0;31m    x0 = 0y0 = 0\u001b[0m\n\u001b[0m           ^\u001b[0m\n\u001b[0;31mSyntaxError\u001b[0m\u001b[0;31m:\u001b[0m invalid syntax\n"
     ]
    }
   ],
   "source": [
    "def plotHenonMap():\n",
    "    a = 1.4\n",
    "    b = 0.3\n",
    "    x0 = 0\n",
    "    y0 = 0\n",
    "    N = 10000\n",
    "    fig = plt.figure()\n",
    "    ax = fig.add_subplot(1, 1, 1)\n",
    "    x, y = henonmap(a, b, x0, y0, N)\n",
    "    plt.plot(x[5:], y[5:], '.', color='k', markersize=.3, label='1.4')\n",
    "    plt.xlabel('x')\n",
    "    plt.ylabel('y')\n",
    "    # plt.xlim((.57, .74))\n",
    "    # plt.ylim((.15, .21))\n",
    "    # rect = patches.Rectangle((.57, .15), 0.17, 0.06, fill=False)\n",
    "    # ax.add_patch(rect)\n",
    "    # plt.savefig('henona1_4.png')\n",
    "    plt.show()"
   ]
  },
  {
   "cell_type": "code",
   "execution_count": null,
   "metadata": {},
   "outputs": [],
   "source": []
  }
 ],
 "metadata": {
  "kernelspec": {
   "display_name": "Python 3",
   "language": "python",
   "name": "python3"
  },
  "language_info": {
   "codemirror_mode": {
    "name": "ipython",
    "version": 3
   },
   "file_extension": ".py",
   "mimetype": "text/x-python",
   "name": "python",
   "nbconvert_exporter": "python",
   "pygments_lexer": "ipython3",
   "version": "3.7.3"
  }
 },
 "nbformat": 4,
 "nbformat_minor": 2
}
